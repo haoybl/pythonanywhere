{
 "cells": [
  {
   "cell_type": "code",
   "execution_count": null,
   "metadata": {
    "collapsed": true
   },
   "outputs": [],
   "source": [
    "import matplotlib\n",
    "matplotlib.use('Qt4Agg')\n",
    "import matplotlib.pyplot as plt\n",
    "from sklearn.decomposition import PCA\n",
    "from sklearn import datasets\n",
    "\n",
    "%matplotlib inline\n",
    "\n",
    "iris = datasets.load_iris()\n",
    "X = iris.data\n",
    "y = iris.target\n",
    "\n",
    "\n",
    "fig = plt.figure()\n",
    "\n",
    "pca = PCA(n_components=2)\n",
    "print ('fitting pca')\n",
    "X = pca.fit_transform(X)\n",
    "\n",
    "markers = []\n",
    "for i in y:\n",
    "    if i == 0:\n",
    "        markers.append('x')\n",
    "    elif i == 1:\n",
    "        markers.append('.')\n",
    "    else:\n",
    "        markers.append('D')\n",
    "\n",
    "print 'plotting'\n",
    "plt.scatter(X[:, 0], X[:, 1])\n",
    "plt.show()\n",
    "\n",
    "\n",
    "#ax = fig.add_subplot(111)\n",
    "#ax.plot(range(100))\n",
    "\n",
    "fig.savefig('graph.png')"
   ]
  }
 ],
 "metadata": {
  "kernelspec": {
   "display_name": "Python 3.5",
   "language": "python",
   "name": "python3.5"
  }
 },
 "nbformat": 4,
 "nbformat_minor": 0
}
