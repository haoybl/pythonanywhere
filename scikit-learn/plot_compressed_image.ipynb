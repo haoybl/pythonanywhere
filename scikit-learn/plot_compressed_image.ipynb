{
 "cells": [
  {
   "cell_type": "code",
   "execution_count": null,
   "metadata": {
    "collapsed": true
   },
   "outputs": [],
   "source": [
    "import numpy as np\n",
    "import matplotlib.pyplot as plt\n",
    "from sklearn.cluster import KMeans\n",
    "from sklearn.utils import shuffle\n",
    "import mahotas as mh\n",
    "\n",
    "original_img = np.array(mh.imread('data/sample2.jpg'),dtype=np.float64)/255\n",
    "original_demensions = tuple(original_img.shape)\n",
    "width, height, depth = tuple(original_img.shape)\n",
    "image_flattened = np.reshape(original_img,(width * height, depth))\n",
    "image_array_sample = shuffle(image_flattened, random_state=0)[:1000]\n",
    "estimator = KMeans(n_clusters=64, random_state=0)\n",
    "estimator.fit(image_array_sample)\n",
    "cluster_assignments = estimator.predict(image_flattened)\n",
    "compressed_palette = estimator.cluster_centers_\n",
    "compressed_img = np.zeros((width,height,compressed_palette.shape[1]))\n",
    "label_idx = 0\n",
    "for i in range(width):\n",
    "    for j in range(height):\n",
    "        compressed_img[i][j] = compressed_palette[cluster_assignments[label_idx]]\n",
    "        label_idx += 1\n",
    "\n",
    "\n",
    "plt.subplot(122)\n",
    "plt.title('Original Image')\n",
    "plt.imshow(original_img)\n",
    "plt.axis('off')\n",
    "plt.subplot(121)\n",
    "plt.title('compressed Image')\n",
    "plt.imshow(compressed_img)\n",
    "plt.axis('off')\n",
    "plt.show()\n"
   ]
  },
  {
   "cell_type": "code",
   "execution_count": null,
   "metadata": {
    "collapsed": false
   },
   "outputs": [],
   "source": []
  }
 ],
 "metadata": {
  "kernelspec": {
   "display_name": "Python 3.4",
   "language": "python",
   "name": "python3.4"
  },
  "language_info": {
   "codemirror_mode": {
    "name": "ipython",
    "version": 3
   },
   "file_extension": ".py",
   "mimetype": "text/x-python",
   "name": "python",
   "nbconvert_exporter": "python",
   "pygments_lexer": "ipython3",
   "version": "3.4.3"
  }
 },
 "nbformat": 4,
 "nbformat_minor": 0
}
