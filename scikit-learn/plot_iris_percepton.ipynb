{
 "cells": [
  {
   "cell_type": "code",
   "execution_count": 1,
   "metadata": {
    "collapsed": false
   },
   "outputs": [
    {
     "data": {
      "text/plain": [
       "<matplotlib.figure.Figure at 0x7f50e01ef150>"
      ]
     },
     "metadata": {},
     "output_type": "display_data"
    },
    {
     "name": "stderr",
     "output_type": "stream",
     "text": [
      "/usr/local/lib/python2.7/dist-packages/matplotlib/collections.py:590: FutureWarning: elementwise comparison failed; returning scalar instead, but in the future will perform elementwise comparison\n",
      "  if self._edgecolors == str('face'):\n"
     ]
    },
    {
     "data": {
      "image/png": "[encoded data removed]",
      "text/plain": [
       "<matplotlib.figure.Figure at 0x7f50e0210790>"
      ]
     },
     "metadata": {},
     "output_type": "display_data"
    }
   ],
   "source": [
    "import matplotlib.pyplot as plt\n",
    "from sklearn import datasets\n",
    "from sklearn.cross_validation import train_test_split\n",
    "from sklearn.linear_model import Perceptron\n",
    "import numpy as np\n",
    "\n",
    "%matplotlib inline\n",
    "\n",
    "iris = datasets.load_iris()\n",
    "X = iris.data[:,:2]  # only use 2 features\n",
    "y = iris.target\n",
    "\n",
    "X_train, X_test, y_train, y_test = train_test_split(X, y, test_size=.2)\n",
    "\n",
    "fig = plt.figure()\n",
    "h = 0.02\n",
    "\n",
    "# create a mesh to plot in\n",
    "x_min, x_max = X[:, 0].min() - 1, X[:, 0].max() + 1\n",
    "y_min, y_max = X[:, 1].min() - 1, X[:, 1].max() + 1\n",
    "xx, yy = np.meshgrid(np.arange(x_min, x_max, h), np.arange(y_min, y_max, h))\n",
    "\n",
    "# create maker for data\n",
    "markers = []\n",
    "for i in y:\n",
    "    if i == 0:\n",
    "        markers.append('r')\n",
    "    elif i == 1:\n",
    "        markers.append('g')\n",
    "    else:\n",
    "        markers.append('b')\n",
    "\n",
    "fig = plt.figure(figsize=(20, 5))\n",
    "i = 1\n",
    "iter = 10\n",
    "# start training\n",
    "#for e in range(1, iter):\n",
    "#print '\\nStarting epoch ', e\n",
    "#clf = Perceptron(n_iter=e, verbose=5).fit(X, y)\n",
    "clf = Perceptron(alpha=0.1, class_weight=None, eta0=4.0, fit_intercept=True, n_iter=500, n_jobs=3, penalty=None, random_state=0, shuffle=False,verbose=0, warm_start=False).fit(X,y)\n",
    "\n",
    "\n",
    "#clf = Perceptron(n_iter=e, verbose=5).fit(X_train, y_train)\n",
    "\n",
    "Z = clf.predict(np.c_[xx.ravel(), yy.ravel()])\n",
    "Z = Z.reshape(xx.shape)\n",
    "\n",
    "\n",
    "#plt.title('Epoch %s' % e)\n",
    "ax = plt.subplot(2, 5, i)\n",
    "ax.contourf(xx, yy, Z, cmap=plt.cm.Paired)\n",
    "\n",
    "    # Plot also the training points\n",
    "ax.scatter(X[:, 0], X[:, 1], c=markers, cmap=plt.cm.Paired)\n",
    "    #ax.scatter(X_train[:, 0], X_train[:, 1], c=markers, cmap=plt.cm.Paired)\n",
    "    #i = i + 1\n",
    "\n",
    "\"\"\"\n",
    "if clf.score(X, y) == 1:\n",
    "    print 'converged in epoch', e\n",
    "    break\n",
    "\"\"\"\n",
    "\n",
    "plt.show()\n",
    "fig.savefig('graph.png')\n",
    "\n"
   ]
  },
  {
   "cell_type": "code",
   "execution_count": null,
   "metadata": {
    "collapsed": true
   },
   "outputs": [],
   "source": []
  }
 ],
 "metadata": {
  "kernelspec": {
   "display_name": "Python 2.7",
   "language": "python",
   "name": "python2.7"
  },
  "language_info": {
   "codemirror_mode": {
    "name": "ipython",
    "version": 2
   },
   "file_extension": ".py",
   "mimetype": "text/x-python",
   "name": "python",
   "nbconvert_exporter": "python",
   "pygments_lexer": "ipython2",
   "version": "2.7.6"
  }
 },
 "nbformat": 4,
 "nbformat_minor": 0
}
