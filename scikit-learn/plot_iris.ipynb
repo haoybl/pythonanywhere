{
 "cells": [
  {
   "cell_type": "code",
   "execution_count": null,
   "metadata": {
    "collapsed": true
   },
   "outputs": [],
   "source": [
    "#import matplotlib\n",
    "import matplotlib.pyplot as plt\n",
    "from sklearn import datasets\n",
    "\n",
    "%matplotlib inline\n",
    "\n",
    "iris = datasets.load_iris()\n",
    "X = iris.data\n",
    "y = iris.target\n",
    "\n",
    "\n",
    "fig = plt.figure()\n",
    "\n",
    "markers = []\n",
    "for i in y:\n",
    "    if i == 0:\n",
    "        markers.append('r')\n",
    "    elif i == 1:\n",
    "        markers.append('g')\n",
    "    else:\n",
    "        markers.append('b')\n",
    "\n",
    "plt.scatter(X[:, 0], X[:, 1],c=markers)\n",
    "plt.show()\n",
    "\n",
    "#fig.savefig('graph.png')"
   ]
  },
  {
   "cell_type": "code",
   "execution_count": null,
   "metadata": {
    "collapsed": true
   },
   "outputs": [],
   "source": []
  }
 ],
 "metadata": {
  "kernelspec": {
   "display_name": "Python 2.7",
   "language": "python",
   "name": "python2.7"
  },
  "language_info": {
   "codemirror_mode": {
    "name": "ipython",
    "version": 2
   },
   "file_extension": ".py",
   "mimetype": "text/x-python",
   "name": "python",
   "nbconvert_exporter": "python",
   "pygments_lexer": "ipython2",
   "version": "2.7.6"
  }
 },
 "nbformat": 4,
 "nbformat_minor": 0
}
