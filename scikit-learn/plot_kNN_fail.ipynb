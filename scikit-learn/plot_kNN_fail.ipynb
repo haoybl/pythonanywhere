{
 "cells": [
  {
   "cell_type": "code",
   "execution_count": 2,
   "metadata": {
    "collapsed": false
   },
   "outputs": [
    {
     "data": {
      "image/png": "[encoded data removed]",
      "text/plain": [
       "<matplotlib.figure.Figure at 0x7fdfef8ad0d0>"
      ]
     },
     "metadata": {},
     "output_type": "display_data"
    },
    {
     "name": "stdout",
     "output_type": "stream",
     "text": [
      "('result: ', array([[ 1.]], dtype=float32), '\\n')\n",
      "('neighbours: ', array([[ 0.,  1.,  1.]], dtype=float32), '\\n')\n",
      "('distance: ', array([[ 10.,  20.,  98.]], dtype=float32))\n"
     ]
    },
    {
     "data": {
      "image/png": "[encoded data removed]",
      "text/plain": [
       "<matplotlib.figure.Figure at 0x7fdfef7f3fd0>"
      ]
     },
     "metadata": {},
     "output_type": "display_data"
    }
   ],
   "source": [
    "# -*- coding: utf-8 -*-\n",
    "\"\"\"\n",
    "Created on Thu May 28 14:18:39 2015\n",
    "\n",
    "@author: keithlam\n",
    "\"\"\"\n",
    "import cv2\n",
    "import numpy as np\n",
    "import matplotlib.pyplot as plt\n",
    "\n",
    "%matplotlib inline\n",
    "\n",
    "# Feature set containing (x,y) values of 25 known/training data\n",
    "trainData = np.random.randint(0,100,(25,2)).astype(np.float32)\n",
    "\n",
    "# Labels each one either Red or Blue with numbers 0 and 1\n",
    "responses = np.random.randint(0,2,(25,1)).astype(np.float32)\n",
    "\n",
    "# Take Red families and plot them\n",
    "red = trainData[responses.ravel()==0]\n",
    "plt.scatter(red[:,0],red[:,1],80,'r','^')\n",
    "\n",
    "# Take Blue families and plot them\n",
    "blue = trainData[responses.ravel()==1]\n",
    "plt.scatter(blue[:,0],blue[:,1],80,'b','s')\n",
    "\n",
    "plt.show()\n",
    "\n",
    "\n",
    "newcomer = np.random.randint(0,100,(1,2)).astype(np.float32)\n",
    "plt.scatter(newcomer[:,0],newcomer[:,1],80,'g','o')\n",
    "\n",
    "knn = cv2.KNearest()\n",
    "knn.train(trainData,responses)\n",
    "ret, results, neighbours ,dist = knn.find_nearest(newcomer, 3)\n",
    "\n",
    "print (\"result: \", results,\"\\n\")\n",
    "print (\"neighbours: \", neighbours,\"\\n\")\n",
    "print (\"distance: \", dist)\n",
    "\n",
    "plt.show()\n",
    "\n",
    "# 10 new comers\n",
    "newcomers = np.random.randint(0,100,(10,2)).astype(np.float32)\n",
    "ret, results,neighbours,dist = knn.find_nearest(newcomer, 3)\n",
    "# The results also will contain 10 labels.\n",
    "\n",
    "plt.show()"
   ]
  },
  {
   "cell_type": "code",
   "execution_count": null,
   "metadata": {
    "collapsed": true
   },
   "outputs": [],
   "source": []
  }
 ],
 "metadata": {
  "kernelspec": {
   "display_name": "Python 2.7",
   "language": "python",
   "name": "python2.7"
  },
  "language_info": {
   "codemirror_mode": {
    "name": "ipython",
    "version": 2
   },
   "file_extension": ".py",
   "mimetype": "text/x-python",
   "name": "python",
   "nbconvert_exporter": "python",
   "pygments_lexer": "ipython2",
   "version": "2.7.6"
  }
 },
 "nbformat": 4,
 "nbformat_minor": 0
}
